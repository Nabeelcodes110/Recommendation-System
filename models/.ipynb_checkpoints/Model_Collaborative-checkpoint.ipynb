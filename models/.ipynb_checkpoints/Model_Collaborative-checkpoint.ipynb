{
 "cells": [
  {
   "cell_type": "code",
   "execution_count": null,
   "id": "52199d9d",
   "metadata": {},
   "outputs": [],
   "source": [
    "import numpy as np\n",
    "import pandas as pd\n",
    "import matplotlib.pyplot as plt\n",
    "\n",
    "plt.style.use(\"ggplot\")\n",
    "\n",
    "import sklearn\n",
    "from sklearn.decomposition import TruncatedSVD"
   ]
  },
  {
   "cell_type": "code",
   "execution_count": null,
   "id": "b6e6c191",
   "metadata": {},
   "outputs": [],
   "source": [
    "ratings = pd.read_csv('kurtiData.csv')\n",
    "# ratings = ratings.dropna()\n",
    "ratings.head(10)\n"
   ]
  },
  {
   "cell_type": "code",
   "execution_count": null,
   "id": "796ef01c",
   "metadata": {},
   "outputs": [],
   "source": [
    "ratings.shape\n",
    "print(ratings['user_id'].nunique())\n",
    "print(ratings['product_id'].nunique())\n",
    "print(ratings.shape)"
   ]
  },
  {
   "cell_type": "code",
   "execution_count": null,
   "id": "5da624ac",
   "metadata": {},
   "outputs": [],
   "source": [
    "popular_products = pd.DataFrame((ratings.groupby('product_id')['rating']).count())\n",
    "popular_products = popular_products.sort_values('rating' ,ascending = False)\n",
    "popular_products"
   ]
  },
  {
   "cell_type": "code",
   "execution_count": null,
   "id": "f189aeb3",
   "metadata": {},
   "outputs": [],
   "source": [
    "popular_products.head(30).plot(kind = 'bar')"
   ]
  },
  {
   "cell_type": "code",
   "execution_count": null,
   "id": "6c8085f9",
   "metadata": {},
   "outputs": [],
   "source": [
    "ratings1 = pd.read_csv('./dataset.csv')\n",
    "ratings1.head()"
   ]
  },
  {
   "cell_type": "code",
   "execution_count": null,
   "id": "f72bcf15",
   "metadata": {},
   "outputs": [],
   "source": [
    "ratings_utility_matrix = ratings.pivot_table(values = 'rating' , columns = 'product_id' , index = 'user_id' , fill_value = 0)\n",
    "ratings_utility_matrix.head(10)"
   ]
  },
  {
   "cell_type": "code",
   "execution_count": null,
   "id": "554e4a09",
   "metadata": {},
   "outputs": [],
   "source": [
    "ratings_utility_matrix.shape"
   ]
  },
  {
   "cell_type": "code",
   "execution_count": null,
   "id": "f3d77486",
   "metadata": {},
   "outputs": [],
   "source": [
    "X = ratings_utility_matrix.T\n",
    "X.shape\n",
    "X.head()"
   ]
  },
  {
   "cell_type": "code",
   "execution_count": null,
   "id": "c75e6cfc",
   "metadata": {},
   "outputs": [],
   "source": [
    "SVD = TruncatedSVD(n_components = 1000)\n",
    "decomposed_matrix = SVD.fit_transform(X)\n",
    "decomposed_matrix.shape"
   ]
  },
  {
   "cell_type": "code",
   "execution_count": null,
   "id": "21943cb8",
   "metadata": {},
   "outputs": [],
   "source": [
    "correlation_matrix = np.corrcoef(decomposed_matrix)\n",
    "correlation_matrix.shape"
   ]
  },
  {
   "cell_type": "code",
   "execution_count": null,
   "id": "e0ca4b97",
   "metadata": {},
   "outputs": [],
   "source": [
    "X.index[79]"
   ]
  },
  {
   "cell_type": "code",
   "execution_count": null,
   "id": "30963da4",
   "metadata": {},
   "outputs": [],
   "source": [
    "i = '15tluk'\n",
    "\n",
    "product_names = list(X.index)\n",
    "product_ID = product_names.index(i)\n",
    "product_ID"
   ]
  },
  {
   "cell_type": "code",
   "execution_count": null,
   "id": "e7f32c1e",
   "metadata": {},
   "outputs": [],
   "source": [
    "correlation_product_ID = sorted(enumerate(correlation_matrix[product_ID]) ,key=lambda x:x[1], reverse = True)\n",
    "mean = np.mean(correlation_product_ID)\n",
    "mean\n",
    "correlation_product_ID[0]"
   ]
  },
  {
   "cell_type": "code",
   "execution_count": null,
   "id": "d29ab58a",
   "metadata": {},
   "outputs": [],
   "source": [
    "# Recommend = list(X.index[correlation_product_ID])\n",
    "\n",
    "# # Removes the item already bought by the customer\n",
    "# Recommend.remove(i) \n",
    "# print(len(Recommend))\n",
    "# Recommend\n",
    "data1 = []\n",
    "for i in correlation_product_ID:\n",
    "    item = [] \n",
    "    temp_df = ratings[ratings['product_id']==X.index[i[0]]]\n",
    "#     print(temp_df)\n",
    "    item.extend(list(temp_df.drop_duplicates('product_id')['product_id'].values))\n",
    "    item.extend(list(temp_df.drop_duplicates('product_id')['image_url'].values))\n",
    "    item.extend(list(temp_df.drop_duplicates('product_id')['price'].values))\n",
    "    data1.append(item)\n",
    "data1[0:10]"
   ]
  },
  {
   "cell_type": "code",
   "execution_count": null,
   "id": "ac4463d4",
   "metadata": {},
   "outputs": [],
   "source": [
    "[['15tluk',\n",
    "  'https://images.meesho.com/images/products/70245596/eoxxa_400.webp',\n",
    "  '₹425'],\n",
    " ['13bonp',\n",
    "  'https://images.meesho.com/images/products/66050197/rbmhs_400.webp',\n",
    "  '₹306'],\n",
    " ['30eos0',\n",
    "  'https://images.meesho.com/images/products/182083824/uzcon_400.webp',\n",
    "  '₹581'],\n",
    " ['32qayg',\n",
    "  'https://images.meesho.com/images/products/185985016/am29d_400.webp',\n",
    "  '₹461'],\n",
    " ['2nbsl7',\n",
    "  'https://images.meesho.com/images/products/160113787/3gwoj_400.webp',\n",
    "  '₹502'],\n",
    " ['39hst3',\n",
    "  'https://images.meesho.com/images/products/197345559/g7t7j_400.webp',\n",
    "  '₹492'],\n",
    " ['ybkkm',\n",
    "  'https://images.meesho.com/images/products/57646822/uviis_400.webp',\n",
    "  '₹477'],\n",
    " ['rh29x',\n",
    "  'https://images.meesho.com/images/products/46145733/tywdg_400.webp',\n",
    "  '₹1,047'],\n",
    " ['2ek54p',\n",
    "  'https://images.meesho.com/images/products/145386745/9cshh_400.webp',\n",
    "  '₹531'],\n",
    " ['17nd88',\n",
    "  'https://images.meesho.com/images/products/73313720/tsedu_400.webp',\n",
    "  '₹486']]"
   ]
  },
  {
   "cell_type": "code",
   "execution_count": null,
   "id": "1f283f4c",
   "metadata": {},
   "outputs": [],
   "source": [
    "X"
   ]
  },
  {
   "cell_type": "code",
   "execution_count": null,
   "id": "258ef14e",
   "metadata": {},
   "outputs": [],
   "source": [
    "from sklearn.metrics.pairwise import cosine_similarity"
   ]
  },
  {
   "cell_type": "code",
   "execution_count": null,
   "id": "2fc0fb0e",
   "metadata": {},
   "outputs": [],
   "source": [
    "similarity_scores = cosine_similarity(X)"
   ]
  },
  {
   "cell_type": "code",
   "execution_count": null,
   "id": "b6e21b60",
   "metadata": {},
   "outputs": [],
   "source": [
    "similarity_scores.shape\n",
    "# type(similarity_scores)"
   ]
  },
  {
   "cell_type": "code",
   "execution_count": null,
   "id": "ffaf8e06",
   "metadata": {},
   "outputs": [],
   "source": [
    "def recommend(product_id):\n",
    "    # index fetch\n",
    "#     index = product_names.index(product_id)\n",
    "#     print(index)\n",
    "# #     similar_items = sorted(list(enumerate(similarity_scores[index])),key=lambda x:x[1],reverse=True)[1:5]\n",
    "\n",
    "#     data = []\n",
    "#     for i,item in sorted(list(enumerate(similarity_scores[index])) ,key=lambda a:a[1] , reverse = True)[0:10]:\n",
    "# #         print(i , item)\n",
    "#         list1=[]\n",
    "#         temp_df= ratings[ratings['product_id']==index[i]]\n",
    "#         list1.extend(list(temp.df.drop_duplicates('product_id')['product_id'].values))\n",
    "#         list1.extend(list(temp.df.drop_duplicates('product_id')['img_url'].values))\n",
    "#         list1.extend(list(temp.df.drop_duplicates('product_id')['price'].values))\n",
    "#         data.append(list1)\n",
    "        \n",
    "    index = np.where(X.index==product_id)[0][0]\n",
    "    similar_items= sorted(list(enumerate(similarity_scores[index])),key=lambda x:x[1],reverse=True)\n",
    "    \n",
    "    data = []\n",
    "    for i in similar_items:\n",
    "        item = [] \n",
    "        temp_df = ratings[ratings['product_id']==X.index[i[0]]]\n",
    "        item.extend(list(temp_df.drop_duplicates('product_id')['product_id'].values))\n",
    "        item.extend(list(temp_df.drop_duplicates('product_id')['image_url'].values))\n",
    "        item.extend(list(temp_df.drop_duplicates('product_id')['price'].values))\n",
    "        \n",
    "        data.append(item)\n",
    "    return data[0:10]"
   ]
  },
  {
   "cell_type": "code",
   "execution_count": null,
   "id": "df5a57c2",
   "metadata": {},
   "outputs": [],
   "source": [
    "recommend('15tluk')"
   ]
  },
  {
   "cell_type": "code",
   "execution_count": null,
   "id": "29b14d6e",
   "metadata": {},
   "outputs": [],
   "source": []
  },
  {
   "cell_type": "code",
   "execution_count": null,
   "id": "270c6a56",
   "metadata": {},
   "outputs": [],
   "source": []
  },
  {
   "cell_type": "code",
   "execution_count": null,
   "id": "196b760f",
   "metadata": {},
   "outputs": [],
   "source": [
    "import pickle\n",
    "pickle.dump(X,open('X.pkl','wb'))\n",
    "pickle.dump(ratings,open('ratings1.pkl','wb'))\n",
    "pickle.dump(similarity_scores,open('similarity_scores.pkl','wb'))\n",
    "pickle.dump(correlation_matrix , open('correlation_matrix.pkl','wb'))"
   ]
  },
  {
   "cell_type": "code",
   "execution_count": null,
   "id": "62014f25",
   "metadata": {},
   "outputs": [],
   "source": []
  },
  {
   "cell_type": "code",
   "execution_count": null,
   "id": "46c2906b",
   "metadata": {},
   "outputs": [],
   "source": []
  }
 ],
 "metadata": {
  "kernelspec": {
   "display_name": "Python 3 (ipykernel)",
   "language": "python",
   "name": "python3"
  },
  "language_info": {
   "codemirror_mode": {
    "name": "ipython",
    "version": 3
   },
   "file_extension": ".py",
   "mimetype": "text/x-python",
   "name": "python",
   "nbconvert_exporter": "python",
   "pygments_lexer": "ipython3",
   "version": "3.10.5"
  }
 },
 "nbformat": 4,
 "nbformat_minor": 5
}
